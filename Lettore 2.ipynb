{
 "cells": [
  {
   "cell_type": "markdown",
   "metadata": {},
   "source": [
    "# Eserizio\n",
    "\n",
    "1. Creare un reader per il dataset **ufo_sightings.csv**\n",
    "    * essendo un [csv](https://en.wikipedia.org/wiki/Comma-separated_values) il separatore è una virgola \",\"\n",
    "    * visualizzare il file aprendolo come testo con il notebook di windows\n",
    "    * C'è un [HEADER](https://en.wikipedia.org/wiki/Header_(computing)), quindi, la prima riga corrisponde al nome delle colonne. Non va in tabella dati.\n",
    "    * trasformare ogni colonna (dove possibile) in modo tale che sia utilizzabile per la data analsis. Le date a stringa in datetime e i numeri a stringa in [int o float](https://www.digitalocean.com/community/tutorials/how-to-convert-data-types-in-python-3)\n",
    "    \n",
    "2. calcolare le 10 shape più ricorrenti usando il modulo [Counter](https://pymotw.com/2/collections/counter.html)\n",
    "\n",
    "3. la durata media degli avvistamenti\n",
    "\n",
    "4. durata media per forma\n",
    "\n",
    "5. qual'è il paese con più avvistamenti\n",
    "\n",
    "6. plottare il numero di avvistamenti per anno\n",
    "\n",
    "7. forma più ricorrente per anno\n",
    "\n",
    "    "
   ]
  },
  {
   "cell_type": "code",
   "execution_count": 191,
   "metadata": {},
   "outputs": [],
   "source": [
    "### from datetime import datetime as dt\n",
    "import re \n",
    "\n",
    "\n",
    "pth = \"C:\\\\Users\\\\oldboy\\\\Documents\\\\GitHub\\\\corso_python\\\\dataset_2\\\\\"\n",
    "file = \"ufo_sightings.csv\"\n",
    "\n",
    "f = open(pth+file)\n",
    "\n",
    "dati = dict()\n",
    "for i,l in enumerate(f):\n",
    "        \n",
    "    if i == 0:\n",
    "        header = l.split(\",\")\n",
    "        for r,h in enumerate(header):\n",
    "            if h == 'longitude \\n':\n",
    "                h ='longitude'\n",
    "                header[r] ='longitude'\n",
    "            if h == \"duration (seconds)\":\n",
    "                h = \"duration\"\n",
    "                header[r] = \"duration\"\n",
    "            dati[h]=list()\n",
    "            \n",
    "    else:\n",
    "        temp = l.split(\",\")\n",
    "        for j,h in enumerate(header):\n",
    "            if h == \"datetime\": # BUG DATE\n",
    "                splitted = temp[j].split(\" \")\n",
    "                date = splitted[0]\n",
    "                hour,minute = splitted[1].split(\":\")\n",
    "                if hour=='24':\n",
    "                    hour=\"00\"\n",
    "                temp[j] = date + \" \" + hour+\":\"+minute\n",
    "                temp[j] = dt.strptime(temp[j].strip(),\"%m/%d/%Y %H:%M\")\n",
    "            if h == \"longitude\": # BUG\n",
    "                temp[j] = float(re.sub(\"[^0-9^.]\", \"\", temp[j][:-1]))\n",
    "            if h == \"latitude\":\n",
    "                temp[j] = float(re.sub(\"[^0-9^.]\", \"\", temp[j][:-1]))\n",
    "\n",
    "            dati[h].append(temp[j])\n",
    "\n",
    "for i,c in enumerate(dati[\"country\"]):\n",
    "    if c == \"\" and dati[\"city\"][i].find(\"(\")>=0:\n",
    "        if dati[\"city\"][i][dati[\"city\"][i].find(\"(\")+1:-1].lower() == \"canada\":\n",
    "                dati[\"country\"][i] = \"ca\"\n",
    "        elif dati[\"city\"][i][dati[\"city\"][i].find(\"(\")+1:-1].lower() in (\"uk/england\",'uk/scotland','republic of ireland','uk/wales'):\n",
    "            dati[\"country\"][i] = \"gb\"\n",
    "        elif dati[\"city\"][i][dati[\"city\"][i].find(\"(\")+1:-1].lower() in (\"between\",\"near\",'location unspecified','in flight','over'):\n",
    "            dati[\"country\"][i] = \"unknown\"\n",
    "        else:\n",
    "            dati[\"country\"][i] = dati[\"city\"][i][dati[\"city\"][i].find(\"(\")+1:-1]\n",
    "    elif c == \"\" and dati[\"city\"][i].find(\"(\")==-1:\n",
    "        dati[\"country\"][i] = \"unknown\"\n",
    "\n"
   ]
  },
  {
   "cell_type": "code",
   "execution_count": 192,
   "metadata": {},
   "outputs": [
    {
     "data": {
      "text/plain": [
       "dict_keys(['datetime', 'city', 'state', 'country', 'shape', 'duration', 'duration (hours/min)', 'comments', 'date posted', 'latitude', 'longitude'])"
      ]
     },
     "execution_count": 192,
     "metadata": {},
     "output_type": "execute_result"
    }
   ],
   "source": [
    "dati.keys()"
   ]
  },
  {
   "cell_type": "code",
   "execution_count": 199,
   "metadata": {},
   "outputs": [
    {
     "data": {
      "image/png": "[encoded data removed]",
      "text/plain": [
       "<Figure size 432x288 with 1 Axes>"
      ]
     },
     "metadata": {
      "needs_background": "light"
     },
     "output_type": "display_data"
    }
   ],
   "source": [
    "from collections import Counter\n",
    "import matplotlib.pyplot as plt\n",
    "\n",
    "conta = Counter(dati[\"shape\"])\n",
    "conta = conta.most_common(20)\n",
    "shapes = [c[0] for c in conta]\n",
    "conta = [c[1] for c in conta]\n",
    "\n",
    "plt.barh(shapes,conta)\n",
    "plt.gca().invert_yaxis()\n",
    "plt.show()"
   ]
  },
  {
   "cell_type": "code",
   "execution_count": 198,
   "metadata": {},
   "outputs": [
    {
     "data": {
      "image/png": "[encoded data removed]",
      "text/plain": [
       "<Figure size 432x288 with 1 Axes>"
      ]
     },
     "metadata": {
      "needs_background": "light"
     },
     "output_type": "display_data"
    }
   ],
   "source": [
    "conta = Counter(dati[\"country\"])\n",
    "conta = conta.most_common(20)\n",
    "shapes = [c[0] for c in conta]\n",
    "conta = [c[1] for c in conta]\n",
    "\n",
    "plt.barh(shapes,conta)\n",
    "plt.gca().invert_yaxis()\n",
    "plt.xscale('log')\n",
    "plt.show()"
   ]
  },
  {
   "cell_type": "code",
   "execution_count": 32,
   "metadata": {},
   "outputs": [
    {
     "name": "stdout",
     "output_type": "stream",
     "text": [
      "casa\n",
      "topo\n",
      "gatto\n",
      "0\n",
      "ciao\n"
     ]
    }
   ],
   "source": [
    "line = \"casa,topo,gatto,0,ciao\"\n",
    "line= line.split(\",\")\n",
    "for i,e in enumerate(line):\n",
    "        print(e)"
   ]
  },
  {
   "cell_type": "code",
   "execution_count": 52,
   "metadata": {},
   "outputs": [
    {
     "name": "stdout",
     "output_type": "stream",
     "text": [
      "0 gatto fa miao nero\n",
      "1 cane fa bau nero\n",
      "2 elefante fa wror bianco\n",
      "3 coccodrillo fa non si sa marrone\n"
     ]
    }
   ],
   "source": [
    "animali = [\"gatto\",\"cane\",\"elefante\",\"coccodrillo\"]\n",
    "versi = [\"miao\",\"bau\",\"wror\",\"non si sa\"]\n",
    "colore = [\"nero\",\"bianco\",\"marrone\"]\n",
    "\n",
    "j = 0\n",
    "for i,a in enumerate(animali):\n",
    "    print(i,animali[i] + \" fa \" + versi[i]+\" \"+ colore[j])\n",
    "    if a != \"gatto\":\n",
    "        j+=1\n"
   ]
  },
  {
   "cell_type": "code",
   "execution_count": 46,
   "metadata": {},
   "outputs": [
    {
     "data": {
      "text/plain": [
       "'miao+bau+wror+non si sa'"
      ]
     },
     "execution_count": 46,
     "metadata": {},
     "output_type": "execute_result"
    }
   ],
   "source": [
    "\"+\".join(versi)"
   ]
  },
  {
   "cell_type": "code",
   "execution_count": 54,
   "metadata": {},
   "outputs": [
    {
     "data": {
      "text/plain": [
       "int"
      ]
     },
     "execution_count": 54,
     "metadata": {},
     "output_type": "execute_result"
    }
   ],
   "source": [
    "a=int\n",
    "a"
   ]
  },
  {
   "cell_type": "code",
   "execution_count": null,
   "metadata": {},
   "outputs": [],
   "source": []
  }
 ],
 "metadata": {
  "kernelspec": {
   "display_name": "Python 3",
   "language": "python",
   "name": "python3"
  },
  "language_info": {
   "codemirror_mode": {
    "name": "ipython",
    "version": 3
   },
   "file_extension": ".py",
   "mimetype": "text/x-python",
   "name": "python",
   "nbconvert_exporter": "python",
   "pygments_lexer": "ipython3",
   "version": "3.7.3"
  }
 },
 "nbformat": 4,
 "nbformat_minor": 2
}
