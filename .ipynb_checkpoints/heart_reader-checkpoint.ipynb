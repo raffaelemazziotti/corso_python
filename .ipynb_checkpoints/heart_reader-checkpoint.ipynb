{
 "cells": [
  {
   "cell_type": "markdown",
   "metadata": {},
   "source": [
    "1. **age**\n",
    "2. **sex**\n",
    "3. **cp** chest pain type (4 values)\n",
    "4. **trestbps** resting blood pressure\n",
    "5. **chol** serum cholestoral in mg/dl\n",
    "6. **fbs** fasting blood sugar > 120 mg/dl\n",
    "7. **restecg** resting electrocardiographic results (values 0,1,2)\n",
    "8. **thalach** maximum heart rate achieved\n",
    "9. **exang** exercise induced angina\n",
    "10. **oldpeak**  ST depression induced by exercise relative to rest\n",
    "11. **slope** of the peak exercise ST segment\n",
    "12. **ca** number of major vessels (0-3) colored by flourosopy\n",
    "13. **thal** 3 = normal; 6 = fixed defect; 7 = reversable defect\n",
    "14. **target**  1 or 0"
   ]
  },
  {
   "cell_type": "code",
   "execution_count": 1,
   "metadata": {},
   "outputs": [],
   "source": [
    "# eta media per sesso\n",
    "# frequenca di chest pain per sesso\n",
    "# colesterolo medio per sesso diviso per fasce di età (<50,50-60,>70)\n",
    "# il colesterolo e la pressione tra persone target e non target è differente?\n",
    "# frequenza del tipo di slope tra persone target e non target\n",
    "# frequenza di angina da esercizio tra persone target e non target divisi per fasce di età e sesso\n",
    "# correlazione tra colesterolo nel sangue e pressione tra persone target e non target"
   ]
  },
  {
   "cell_type": "code",
   "execution_count": 2,
   "metadata": {},
   "outputs": [],
   "source": [
    "import re\n",
    "\n",
    "def reader(percorso):\n",
    "    f = open(percorso)\n",
    "    dataset = dict()\n",
    "    for i,line in enumerate(f):\n",
    "        if i==0:\n",
    "            header = line.split(\",\")\n",
    "            for h in header:\n",
    "                h = re.sub('[\\x80-\\xFF]','',h)\n",
    "                if \"target\" in h:\n",
    "                    h = h[:-1]\n",
    "                dataset[h] = list()\n",
    "        else:\n",
    "            line = line.split(\",\")\n",
    "            for h,k in enumerate(dataset.keys()):\n",
    "\n",
    "                if k == \"oldpeak\":\n",
    "                    line[h] = float(line[h])\n",
    "                elif k == \"target\":\n",
    "                    line[h] = line[h][:-1]\n",
    "                elif k in [\"age\", \"trestbps\", \"chol\", \"thalach\"]:\n",
    "                    line[h] = int(line[h])\n",
    "\n",
    "                dataset[k].append(line[h])\n",
    "\n",
    "    f.close()\n",
    "    \n",
    "    return dataset\n",
    "\n",
    "\n",
    "\n"
   ]
  },
  {
   "cell_type": "code",
   "execution_count": 3,
   "metadata": {},
   "outputs": [
    {
     "data": {
      "text/plain": [
       "dict_keys(['age', 'sex', 'cp', 'trestbps', 'chol', 'fbs', 'restecg', 'thalach', 'exang', 'oldpeak', 'slope', 'ca', 'thal', 'target'])"
      ]
     },
     "execution_count": 3,
     "metadata": {},
     "output_type": "execute_result"
    }
   ],
   "source": [
    "pathtofile = \"C:\\\\Users\\\\oldboy\\\\Documents\\\\GitHub\\\\corso_python\\\\dataset_2\\\\heart.csv\"\n",
    "dataset = reader(pathtofile)\n",
    "dataset.keys()\n"
   ]
  },
  {
   "cell_type": "code",
   "execution_count": 4,
   "metadata": {},
   "outputs": [
    {
     "name": "stdout",
     "output_type": "stream",
     "text": [
      "femmine 53.75845410628019\n",
      "maschi 55.677083333333336\n"
     ]
    }
   ],
   "source": [
    "#eta media in base al sesso\n",
    "import numpy as np\n",
    "\n",
    "eta_maschi = list()\n",
    "eta_femmine = list()\n",
    "\n",
    "for i,s in enumerate(dataset[\"sex\"]):\n",
    "    if s ==\"1\":\n",
    "        eta_femmine.append(dataset[\"age\"][i])\n",
    "    else:\n",
    "        eta_maschi.append(dataset[\"age\"][i])\n",
    "        \n",
    "print(\"femmine\",np.mean(eta_femmine))\n",
    "print(\"maschi\",np.mean(eta_maschi))\n"
   ]
  },
  {
   "cell_type": "code",
   "execution_count": 66,
   "metadata": {},
   "outputs": [
    {
     "name": "stdout",
     "output_type": "stream",
     "text": [
      "maschi:  55.677083333333336\n",
      "femmine:  53.75845410628019\n"
     ]
    }
   ],
   "source": [
    "eta = dict()\n",
    "eta[\"maschi\"]=list()\n",
    "eta[\"femmine\"]=list()\n",
    "\n",
    "for i,s in enumerate(dataset[\"sex\"]):\n",
    "    if s==\"1\":\n",
    "        eta[\"femmine\"].append(dataset[\"age\"][i])\n",
    "    else:\n",
    "        eta[\"maschi\"].append(dataset[\"age\"][i])\n",
    "    \n",
    "    \n",
    "print(\"maschi: \",np.mean(eta[\"maschi\"]))\n",
    "print(\"femmine: \",np.mean(eta[\"femmine\"]))"
   ]
  },
  {
   "cell_type": "code",
   "execution_count": 73,
   "metadata": {},
   "outputs": [
    {
     "data": {
      "text/plain": [
       "{'1': 1.4285714285714286, '0': 2.7142857142857144, '2': 0.4084507042253521}"
      ]
     },
     "execution_count": 73,
     "metadata": {},
     "output_type": "execute_result"
    }
   ],
   "source": [
    "cat = \"slope\"\n",
    "cont = \"oldpeak\"\n",
    "eta = dict()\n",
    "val = set(dataset[cat])\n",
    "for k in val:\n",
    "    eta[k]=list()\n",
    "    \n",
    "for i,s in enumerate(dataset[cat]):\n",
    "    eta[s].append(dataset[cont][i])\n",
    "    \n",
    "for k in eta.keys():\n",
    "    eta[k] = np.mean(eta[k])\n",
    "    \n",
    "eta"
   ]
  },
  {
   "cell_type": "code",
   "execution_count": 86,
   "metadata": {},
   "outputs": [],
   "source": [
    "\n",
    "class Person():\n",
    "    \n",
    "    def __init__(self,name,age):\n",
    "        self.name = name\n",
    "        self.autosex()\n",
    "        self.age = age\n",
    "    \n",
    "    def cresce(self):\n",
    "        self.age+=1\n",
    "        \n",
    "    def autosex(self):\n",
    "        if self.name[-1]==\"a\":\n",
    "            self.sex = \"f\"\n",
    "        elif self.name[-1]==\"o\":\n",
    "            self.sex = \"m\" \n",
    "        \n",
    "    def stampa(self):\n",
    "        print(\"Nome: \",self.name, \"Sex: \",self.sex, \"Age: \",self.age)\n",
    "\n"
   ]
  },
  {
   "cell_type": "code",
   "execution_count": 87,
   "metadata": {},
   "outputs": [
    {
     "name": "stdout",
     "output_type": "stream",
     "text": [
      "Nome:  Sandro Sex:  m Age:  18\n",
      "Nome:  Sandro Sex:  m Age:  19\n"
     ]
    }
   ],
   "source": [
    "soggetto1 = Person(\"Sandro\",18)\n",
    "soggetto2 = Person(\"Franca\",22)\n",
    "\n",
    "soggetto1.stampa()\n",
    "soggetto1.cresce()\n",
    "soggetto1.stampa()"
   ]
  },
  {
   "cell_type": "code",
   "execution_count": 85,
   "metadata": {},
   "outputs": [
    {
     "data": {
      "text/plain": [
       "'o'"
      ]
     },
     "execution_count": 85,
     "metadata": {},
     "output_type": "execute_result"
    }
   ],
   "source": [
    "soggetto1.name[-1]"
   ]
  },
  {
   "cell_type": "code",
   "execution_count": 11,
   "metadata": {},
   "outputs": [
    {
     "data": {
      "text/plain": [
       "{'2': 2, '4': 2, '3': 1, '1': 1}"
      ]
     },
     "execution_count": 11,
     "metadata": {},
     "output_type": "execute_result"
    }
   ],
   "source": [
    "from collections import Counter\n",
    "\n",
    "dict(Counter([\"2\",\"4\",\"2\",\"4\",\"3\",\"1\"]))"
   ]
  },
  {
   "cell_type": "code",
   "execution_count": 15,
   "metadata": {
    "scrolled": false
   },
   "outputs": [
    {
     "data": {
      "text/plain": [
       "{'1': {'3': 19, '2': 52, '1': 32, '0': 104},\n",
       " '0': {'1': 18, '0': 39, '2': 35, '3': 4}}"
      ]
     },
     "execution_count": 15,
     "metadata": {},
     "output_type": "execute_result"
    }
   ],
   "source": [
    "# frequenza di chest pain per sesso\n",
    "\n",
    "sex_keys = list(set(dataset[\"sex\"]))\n",
    "cp_keys = list(set(dataset[\"cp\"]))\n",
    "results = dict()\n",
    "for k in sex_keys:\n",
    "    results[k] = list()\n",
    "for i,s in enumerate(dataset[\"sex\"]):\n",
    "    results[s].append(dataset[\"cp\"][i])\n",
    "    \n",
    "for s in results:\n",
    "    #temp = dict()\n",
    "    #for k in cp_keys:\n",
    "    #    temp[k] = 0\n",
    "    #for c in results[s]:\n",
    "    #    temp[c]+=1\n",
    "    #results[s]=temp\n",
    "    results[s]= dict(Counter(results[s]))\n",
    "        \n",
    "results"
   ]
  },
  {
   "cell_type": "code",
   "execution_count": 17,
   "metadata": {},
   "outputs": [
    {
     "data": {
      "text/plain": [
       "104"
      ]
     },
     "execution_count": 17,
     "metadata": {},
     "output_type": "execute_result"
    }
   ],
   "source": [
    "results[\"1\"][\"0\"]"
   ]
  },
  {
   "cell_type": "code",
   "execution_count": 21,
   "metadata": {},
   "outputs": [
    {
     "data": {
      "text/plain": [
       "['a', 'b']"
      ]
     },
     "execution_count": 21,
     "metadata": {},
     "output_type": "execute_result"
    }
   ],
   "source": [
    "a = [\"a\",\"b\"]\n",
    "b = a.copy()\n",
    "b[1]=\"a\"\n",
    "a"
   ]
  },
  {
   "cell_type": "code",
   "execution_count": 23,
   "metadata": {},
   "outputs": [
    {
     "data": {
      "text/plain": [
       "1"
      ]
     },
     "execution_count": 23,
     "metadata": {},
     "output_type": "execute_result"
    }
   ],
   "source": [
    "a = 1\n",
    "b = a\n",
    "b = 2\n",
    "a"
   ]
  },
  {
   "cell_type": "code",
   "execution_count": 48,
   "metadata": {},
   "outputs": [
    {
     "data": {
      "text/plain": [
       "'ciao,\"franco;gianni;pamela;aurelia\",unni,cracovia,\"10;1000\",primavera'"
      ]
     },
     "execution_count": 48,
     "metadata": {},
     "output_type": "execute_result"
    }
   ],
   "source": [
    "string = 'ciao,\"franco,gianni,pamela,aurelia\",unni,cracovia,\"10,1000\",primavera'\n",
    "\n",
    "virgo = False\n",
    "for i,s in enumerate(string):\n",
    "    if s == '\"':\n",
    "        virgo= not virgo  \n",
    "    if virgo and s==\",\":\n",
    "        string = string[:i]+\";\"+string[1+i:]\n",
    "    \n",
    "string  "
   ]
  },
  {
   "cell_type": "code",
   "execution_count": 32,
   "metadata": {},
   "outputs": [
    {
     "data": {
      "text/plain": [
       "{'1': {'1': {'old': {'0': 10, '1': 3},\n",
       "   'interm': {'0': 32, '1': 9},\n",
       "   'young': {'0': 36, '1': 3}},\n",
       "  '0': {'old': {'1': 17, '0': 15},\n",
       "   'interm': {'1': 33, '0': 24},\n",
       "   'young': {'0': 13, '1': 12}}},\n",
       " '0': {'1': {'old': {'0': 20, '1': 2},\n",
       "   'interm': {'1': 2, '0': 25},\n",
       "   'young': {'0': 19, '1': 4}},\n",
       "  '0': {'old': {'0': 7, '1': 5},\n",
       "   'interm': {'1': 8, '0': 3},\n",
       "   'young': {'1': 1}}}}"
      ]
     },
     "execution_count": 32,
     "metadata": {},
     "output_type": "execute_result"
    }
   ],
   "source": [
    "# frequenza di angina da esercizio tra persone target e non target divisi per fasce di età e sesso\n",
    "import numpy as np\n",
    "import itertools\n",
    "from collections import Counter\n",
    "\n",
    "dataset[\"age_group\"]=list()\n",
    "\n",
    "for i in dataset[\"age\"]:\n",
    "    if i<50:\n",
    "        dataset[\"age_group\"].append(\"young\")\n",
    "    elif i>=50 and i<=60:\n",
    "        dataset[\"age_group\"].append(\"interm\")\n",
    "    else:\n",
    "        dataset[\"age_group\"].append(\"old\")\n",
    "        \n",
    "\n",
    "sessi = set(dataset[\"sex\"])\n",
    "tar = set(dataset[\"target\"])\n",
    "agroup = set(dataset[\"age_group\"])\n",
    "\n",
    "exang = np.array(dataset[\"exang\"])\n",
    "res = dict()\n",
    "\n",
    "for s in sessi:\n",
    "    res[s]=dict()\n",
    "    for t in tar:\n",
    "        res[s][t]=dict()\n",
    "        for a in agroup:\n",
    "            res[s][t][a]=dict()\n",
    "\n",
    "for s,t,a in list(itertools.product(sessi,tar,agroup)):\n",
    "    res[s][t][a] = dict(Counter(exang[(np.array(dataset[\"age_group\"])==a) & (np.array(dataset[\"sex\"])==s) & (np.array(dataset[\"target\"])==t)]))\n",
    "res"
   ]
  },
  {
   "cell_type": "code",
   "execution_count": 33,
   "metadata": {},
   "outputs": [
    {
     "data": {
      "text/plain": [
       "[('1', '1', 'old'),\n",
       " ('1', '1', 'interm'),\n",
       " ('1', '1', 'young'),\n",
       " ('1', '0', 'old'),\n",
       " ('1', '0', 'interm'),\n",
       " ('1', '0', 'young'),\n",
       " ('0', '1', 'old'),\n",
       " ('0', '1', 'interm'),\n",
       " ('0', '1', 'young'),\n",
       " ('0', '0', 'old'),\n",
       " ('0', '0', 'interm'),\n",
       " ('0', '0', 'young')]"
      ]
     },
     "execution_count": 33,
     "metadata": {},
     "output_type": "execute_result"
    }
   ],
   "source": [
    "list(itertools.product(sessi,tar,agroup))"
   ]
  },
  {
   "cell_type": "code",
   "execution_count": null,
   "metadata": {},
   "outputs": [],
   "source": []
  }
 ],
 "metadata": {
  "kernelspec": {
   "display_name": "Python 3",
   "language": "python",
   "name": "python3"
  },
  "language_info": {
   "codemirror_mode": {
    "name": "ipython",
    "version": 3
   },
   "file_extension": ".py",
   "mimetype": "text/x-python",
   "name": "python",
   "nbconvert_exporter": "python",
   "pygments_lexer": "ipython3",
   "version": "3.7.3"
  }
 },
 "nbformat": 4,
 "nbformat_minor": 2
}
