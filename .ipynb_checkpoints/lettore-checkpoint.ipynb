{
 "cells": [
  {
   "cell_type": "code",
   "execution_count": 31,
   "metadata": {},
   "outputs": [],
   "source": [
    "\n",
    "# Questa funzione legge i file della oc_chamber\n",
    "def reader(percorso_al_file):\n",
    "    \n",
    "    f = open(percorso_al_file)\n",
    "\n",
    "    dati = dict() # struttura dati a dizionario in cui le chiavi sono le colonne e i valori sono stored in una lista\n",
    "    dati[\"Event\"] = list()\n",
    "    dati[\"Answer\"] = list()\n",
    "    dati[\"RT\"] = list()\n",
    "    dati[\"Time\"] = list()\n",
    "\n",
    "    for line in f:\n",
    "        to_list = line.split(\"\\t\")\n",
    "        #row = list()\n",
    "        for col in to_list:\n",
    "            value = col.split(\": \")\n",
    "            if value[0] == \"RT\":\n",
    "                value[1] = int(value[1])\n",
    "            if value[0] == \"Time\":\n",
    "                value[1] = value[1][:-1]\n",
    "\n",
    "            dati[value[0]].append(value[1])\n",
    "\n",
    "    f.close()\n",
    "    \n",
    "    return dati\n",
    "\n",
    "# calcola il numero totale e parziale di trial\n",
    "def ntrial(dati):\n",
    "    total = dict()\n",
    "    total[\"total\"] = 0\n",
    "    total[\"right\"] = 0\n",
    "    total[\"left\"] = 0\n",
    "\n",
    "    for r in dati[\"Event\"]:\n",
    "        if r==\"left\":\n",
    "            total[\"left\"] = total[\"left\"]+1\n",
    "        elif r==\"right\":\n",
    "            total[\"right\"] = total[\"right\"]+1\n",
    "        total[\"total\"] = total[\"total\"] +1\n",
    "            \n",
    "    return total\n"
   ]
  },
  {
   "cell_type": "markdown",
   "metadata": {},
   "source": [
    "# ESERCIZI\n",
    "1. contare numero di trial\n",
    "2. contare il tipo di trial\n",
    "3. tempo di reazione medio\n",
    "    * importare la libreria  [Numpy](https://docs.scipy.org/doc/numpy/reference/) usando la parola chiave **import**\n",
    "    * usare la funzione [mean](http://lagrange.univ-lyon1.fr/docs/numpy/1.11.0/reference/generated/numpy.mean.html) della libreria Numpy\n",
    "4. correttezza percentuale totale\n",
    "5. tempo di reazione medio \n",
    "6. [istogramma](https://matplotlib.org/api/_as_gen/matplotlib.pyplot.hist.html) tempo di reazione medio disegnando un [linea verticale](https://matplotlib.org/3.1.0/api/_as_gen/matplotlib.axes.Axes.axvline.html) sulla media\n",
    "7. tempo di reazione medio per tipo di trial\n",
    "8. correttezza percentuale per tipo di trial \n",
    "9. calcolare intertrial\n",
    "    * trasformare le date da [stringhe](https://www.w3schools.com/python/python_ref_string.asp) a un oggetto [datetime](https://docs.python.org/2/library/datetime.html) usando il metodo [strptime](https://stackoverflow.com/questions/466345/converting-string-into-datetime)\n",
    "    * calcolare i delta tra le date in [secondi](https://stackoverflow.com/questions/4362491/how-do-i-check-the-difference-in-seconds-between-two-dates)\n",
    "    * modificare la funzione reader per trasformare le date direttamente in un oggetto datetime\n",
    "10. creare libreria di funzioni che calcola le robe fatte su\n",
    "\n"
   ]
  },
  {
   "cell_type": "code",
   "execution_count": 14,
   "metadata": {},
   "outputs": [],
   "source": [
    "\n",
    "percorso = \"C:\\\\Users\\\\oldboy\\\\Documents\\\\oc_chamber\\\\dataset\\\\data\\\\F-B00-WT\\\\\"\n",
    "\n",
    "percorsofile = percorso + \"20180116_0948-FB00.txt\"\n",
    "dati = reader(percorsofile)\n",
    "\n"
   ]
  },
  {
   "cell_type": "code",
   "execution_count": 19,
   "metadata": {},
   "outputs": [
    {
     "name": "stdout",
     "output_type": "stream",
     "text": [
      "Numero di trial:  30\n"
     ]
    }
   ],
   "source": [
    "\n",
    "print(\"Numero di trial: \" , ntrial(dati))"
   ]
  },
  {
   "cell_type": "code",
   "execution_count": 25,
   "metadata": {},
   "outputs": [
    {
     "name": "stdout",
     "output_type": "stream",
     "text": [
      "Left: 28 \tRight:  2\n"
     ]
    }
   ],
   "source": [
    "\n",
    "n_left = 0\n",
    "n_right = 0\n",
    "for r in dati[\"Event\"]:\n",
    "    if r==\"left\":\n",
    "        n_left = n_left+1\n",
    "    elif r==\"right\":\n",
    "        n_right = n_right+1\n",
    "\n",
    "print(\"Left:\", n_left,\"\\tRight: \",n_right)\n"
   ]
  },
  {
   "cell_type": "code",
   "execution_count": 32,
   "metadata": {},
   "outputs": [
    {
     "name": "stdout",
     "output_type": "stream",
     "text": [
      "\tTotal: 30 \tLeft: 28 \tRight:  2\n"
     ]
    }
   ],
   "source": [
    "\n",
    "total = ntrial(dati)\n",
    "print(\"\\tTotal:\", total[\"total\"],\"\\tLeft:\", total[\"left\"],\"\\tRight: \",total[\"right\"])\n"
   ]
  },
  {
   "cell_type": "code",
   "execution_count": null,
   "metadata": {},
   "outputs": [],
   "source": []
  }
 ],
 "metadata": {
  "kernelspec": {
   "display_name": "Python 3",
   "language": "python",
   "name": "python3"
  },
  "language_info": {
   "codemirror_mode": {
    "name": "ipython",
    "version": 3
   },
   "file_extension": ".py",
   "mimetype": "text/x-python",
   "name": "python",
   "nbconvert_exporter": "python",
   "pygments_lexer": "ipython3",
   "version": "3.7.3"
  }
 },
 "nbformat": 4,
 "nbformat_minor": 2
}
