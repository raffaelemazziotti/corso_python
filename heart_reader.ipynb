{
 "cells": [
  {
   "cell_type": "code",
   "execution_count": 2,
   "metadata": {},
   "outputs": [],
   "source": [
    "import re\n",
    "\n",
    "def reader(percorso):\n",
    "    f = open(percorso)\n",
    "    dataset = dict()\n",
    "    for i,line in enumerate(f):\n",
    "        if i==0:\n",
    "            header = line.split(\",\")\n",
    "            for h in header:\n",
    "                h = re.sub('[\\x80-\\xFF]','',h)\n",
    "                if \"target\" in h:\n",
    "                    h = h[:-1]\n",
    "                dataset[h] = list()\n",
    "        else:\n",
    "            line = line.split(\",\")\n",
    "            for h,k in enumerate(dataset.keys()):\n",
    "\n",
    "                if k == \"oldpeak\":\n",
    "                    line[h] = float(line[h])\n",
    "                elif k == \"target\":\n",
    "                    line[h] = line[h][:-1]\n",
    "                elif k in [\"age\", \"trestbps\", \"chol\", \"thalach\"]:\n",
    "                    line[h] = int(line[h])\n",
    "\n",
    "                dataset[k].append(line[h])\n",
    "\n",
    "    f.close()\n",
    "    \n",
    "    return dataset\n",
    "\n",
    "\n",
    "\n"
   ]
  },
  {
   "cell_type": "code",
   "execution_count": 6,
   "metadata": {},
   "outputs": [
    {
     "data": {
      "text/plain": [
       "dict_keys(['age', 'sex', 'cp', 'trestbps', 'chol', 'fbs', 'restecg', 'thalach', 'exang', 'oldpeak', 'slope', 'ca', 'thal', 'target'])"
      ]
     },
     "execution_count": 6,
     "metadata": {},
     "output_type": "execute_result"
    }
   ],
   "source": [
    "pathtofile = \"C:\\\\Users\\\\oldboy\\\\Documents\\\\GitHub\\\\corso_python\\\\dataset_2\\\\heart.csv\"\n",
    "dataset = reader(pathtofile)\n",
    "dataset.keys()\n"
   ]
  },
  {
   "cell_type": "code",
   "execution_count": 72,
   "metadata": {},
   "outputs": [
    {
     "name": "stdout",
     "output_type": "stream",
     "text": [
      "femmine 1.4285714285714286\n",
      "maschi 0.705521472392638\n"
     ]
    }
   ],
   "source": [
    "#eta media in base al sesso\n",
    "import numpy as np\n",
    "\n",
    "eta_maschi = list()\n",
    "eta_femmine = list()\n",
    "\n",
    "for i,s in enumerate(dataset[\"sex\"]):\n",
    "    if s ==\"1\":\n",
    "        eta_femmine.append(dataset[\"age\"][i])\n",
    "    else:\n",
    "        eta_maschi.append(dataset[\"age\"][i])\n",
    "        \n",
    "print(\"femmine\",np.mean(eta_femmine))\n",
    "print(\"maschi\",np.mean(eta_maschi))\n"
   ]
  },
  {
   "cell_type": "code",
   "execution_count": 66,
   "metadata": {},
   "outputs": [
    {
     "name": "stdout",
     "output_type": "stream",
     "text": [
      "maschi:  55.677083333333336\n",
      "femmine:  53.75845410628019\n"
     ]
    }
   ],
   "source": [
    "eta = dict()\n",
    "eta[\"maschi\"]=list()\n",
    "eta[\"femmine\"]=list()\n",
    "\n",
    "for i,s in enumerate(dataset[\"sex\"]):\n",
    "    if s==\"1\":\n",
    "        eta[\"femmine\"].append(dataset[\"age\"][i])\n",
    "    else:\n",
    "        eta[\"maschi\"].append(dataset[\"age\"][i])\n",
    "    \n",
    "    \n",
    "print(\"maschi: \",np.mean(eta[\"maschi\"]))\n",
    "print(\"femmine: \",np.mean(eta[\"femmine\"]))"
   ]
  },
  {
   "cell_type": "code",
   "execution_count": 73,
   "metadata": {},
   "outputs": [
    {
     "data": {
      "text/plain": [
       "{'1': 1.4285714285714286, '0': 2.7142857142857144, '2': 0.4084507042253521}"
      ]
     },
     "execution_count": 73,
     "metadata": {},
     "output_type": "execute_result"
    }
   ],
   "source": [
    "cat = \"slope\"\n",
    "cont = \"oldpeak\"\n",
    "eta = dict()\n",
    "val = set(dataset[cat])\n",
    "for k in val:\n",
    "    eta[k]=list()\n",
    "    \n",
    "for i,s in enumerate(dataset[cat]):\n",
    "    eta[s].append(dataset[cont][i])\n",
    "    \n",
    "for k in eta.keys():\n",
    "    eta[k] = np.mean(eta[k])\n",
    "    \n",
    "eta"
   ]
  },
  {
   "cell_type": "code",
   "execution_count": 86,
   "metadata": {},
   "outputs": [],
   "source": [
    "\n",
    "class Person():\n",
    "    \n",
    "    def __init__(self,name,age):\n",
    "        self.name = name\n",
    "        self.autosex()\n",
    "        self.age = age\n",
    "    \n",
    "    def cresce(self):\n",
    "        self.age+=1\n",
    "        \n",
    "    def autosex(self):\n",
    "        if self.name[-1]==\"a\":\n",
    "            self.sex = \"f\"\n",
    "        elif self.name[-1]==\"o\":\n",
    "            self.sex = \"m\" \n",
    "        \n",
    "    def stampa(self):\n",
    "        print(\"Nome: \",self.name, \"Sex: \",self.sex, \"Age: \",self.age)\n",
    "\n"
   ]
  },
  {
   "cell_type": "code",
   "execution_count": 87,
   "metadata": {},
   "outputs": [
    {
     "name": "stdout",
     "output_type": "stream",
     "text": [
      "Nome:  Sandro Sex:  m Age:  18\n",
      "Nome:  Sandro Sex:  m Age:  19\n"
     ]
    }
   ],
   "source": [
    "soggetto1 = Person(\"Sandro\",18)\n",
    "soggetto2 = Person(\"Franca\",22)\n",
    "\n",
    "soggetto1.stampa()\n",
    "soggetto1.cresce()\n",
    "soggetto1.stampa()"
   ]
  },
  {
   "cell_type": "code",
   "execution_count": 85,
   "metadata": {},
   "outputs": [
    {
     "data": {
      "text/plain": [
       "'o'"
      ]
     },
     "execution_count": 85,
     "metadata": {},
     "output_type": "execute_result"
    }
   ],
   "source": [
    "soggetto1.name[-1]"
   ]
  },
  {
   "cell_type": "code",
   "execution_count": null,
   "metadata": {},
   "outputs": [],
   "source": []
  }
 ],
 "metadata": {
  "kernelspec": {
   "display_name": "Python 3",
   "language": "python",
   "name": "python3"
  },
  "language_info": {
   "codemirror_mode": {
    "name": "ipython",
    "version": 3
   },
   "file_extension": ".py",
   "mimetype": "text/x-python",
   "name": "python",
   "nbconvert_exporter": "python",
   "pygments_lexer": "ipython3",
   "version": "3.7.3"
  }
 },
 "nbformat": 4,
 "nbformat_minor": 2
}
