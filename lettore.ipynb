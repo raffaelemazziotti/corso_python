{
 "cells": [
  {
   "cell_type": "code",
   "execution_count": 147,
   "metadata": {},
   "outputs": [],
   "source": [
    "import numpy\n",
    "import matplotlib.pyplot as plt\n",
    "\n",
    "# Questa funzione legge i file della oc_chamber\n",
    "def reader(percorso_al_file):\n",
    "    \n",
    "    f = open(percorso_al_file)\n",
    "\n",
    "    dati = dict() # struttura dati a dizionario in cui le chiavi sono le colonne e i valori sono stored in una lista\n",
    "    dati[\"Event\"] = list()\n",
    "    dati[\"Answer\"] = list()\n",
    "    dati[\"RT\"] = list()\n",
    "    dati[\"Time\"] = list()\n",
    "\n",
    "    for line in f:\n",
    "        to_list = line.split(\"\\t\")\n",
    "        #row = list()\n",
    "        for col in to_list:\n",
    "            value = col.split(\": \")\n",
    "            if value[0] == \"RT\":\n",
    "                value[1] = int(value[1])\n",
    "            if value[0] == \"Time\":\n",
    "                value[1] = dt.strptime(value[1][:-1],\"%H:%M:%S_%d/%m/%Y\")\n",
    "\n",
    "            dati[value[0]].append(value[1])\n",
    "\n",
    "    f.close()\n",
    "    \n",
    "    return dati\n",
    "\n",
    "# calcola il numero totale e parziale di trial\n",
    "def ntrial(dati):\n",
    "    total = dict()\n",
    "    total[\"total\"] = 0\n",
    "    total[\"right\"] = 0\n",
    "    total[\"left\"] = 0\n",
    "\n",
    "    for r in dati[\"Event\"]:\n",
    "        if r==\"left\":\n",
    "            total[\"left\"] = total[\"left\"]+1\n",
    "        elif r==\"right\":\n",
    "            total[\"right\"] = total[\"right\"]+1\n",
    "        total[\"total\"] = total[\"total\"] +1\n",
    "\n",
    "    return total\n",
    "\n",
    "# calcola accuracy di un vettore di yes e no\n",
    "def accuracy(vec):\n",
    "    tot_vec =0\n",
    "    len_vec = len (vec)\n",
    "    for l in vec:\n",
    "        if l==\"yes\":\n",
    "            tot_vec = tot_vec+1\n",
    "    perc = 100*(tot_vec/len_vec)\n",
    "    return perc\n",
    "\n",
    "# seleziona i dati in una colonna [col] ugliale a [what] dalla colonna [where] \n",
    "def select(dati,col,what,where):\n",
    "    result = list()\n",
    "    i=0\n",
    "    for ev in dati[col]:\n",
    "        if ev == what:\n",
    "            result.append(dati[where][i])\n",
    "        i=i+1\n",
    "    return result"
   ]
  },
  {
   "cell_type": "markdown",
   "metadata": {},
   "source": [
    "# ESERCIZI\n",
    "1. contare numero di trial\n",
    "2. contare il tipo di trial\n",
    "3. tempo di reazione medio\n",
    "    * importare la libreria  [Numpy](https://docs.scipy.org/doc/numpy/reference/) usando la parola chiave **import**\n",
    "    * usare la funzione [mean](http://lagrange.univ-lyon1.fr/docs/numpy/1.11.0/reference/generated/numpy.mean.html) della libreria Numpy\n",
    "4. correttezza percentuale totale \n",
    "5. tempo di reazione medio \n",
    "6. [istogramma](https://matplotlib.org/api/_as_gen/matplotlib.pyplot.hist.html) tempo di reazione medio disegnando un [linea verticale](https://matplotlib.org/3.1.0/api/_as_gen/matplotlib.axes.Axes.axvline.html) sulla media\n",
    "7. tempo di reazione medio per tipo di trial\n",
    "8. correttezza percentuale per tipo di trial \n",
    "9. calcolare intertrial\n",
    "    * trasformare le date da [stringhe](https://www.w3schools.com/python/python_ref_string.asp) a un oggetto [datetime](https://docs.python.org/2/library/datetime.html) usando il metodo [strptime](https://stackoverflow.com/questions/466345/converting-string-into-datetime)\n",
    "    * calcolare i delta tra le date in [secondi](https://stackoverflow.com/questions/4362491/how-do-i-check-the-difference-in-seconds-between-two-dates)\n",
    "    * modificare la funzione reader per trasformare le date direttamente in un oggetto datetime\n",
    "    * plottare istogramma della distribuzione degli intertrial\n",
    "10. creare libreria di funzioni che calcola le robe fatte su\n",
    "11. creare un output di prestazione della sessione\n",
    "11. calcolare gli indici di prestazione su le tre sessioni in un giorno\n",
    "12. calcolare la prestazione settimana\n",
    "\n"
   ]
  },
  {
   "cell_type": "code",
   "execution_count": 149,
   "metadata": {},
   "outputs": [
    {
     "data": {
      "text/plain": [
       "{'Event': ['right',\n",
       "  'right',\n",
       "  'left',\n",
       "  'left',\n",
       "  'left',\n",
       "  'left',\n",
       "  'left',\n",
       "  'left',\n",
       "  'left',\n",
       "  'left',\n",
       "  'left',\n",
       "  'left',\n",
       "  'left',\n",
       "  'left',\n",
       "  'left',\n",
       "  'left',\n",
       "  'left',\n",
       "  'left',\n",
       "  'left',\n",
       "  'left',\n",
       "  'left',\n",
       "  'left',\n",
       "  'left',\n",
       "  'left',\n",
       "  'left',\n",
       "  'left',\n",
       "  'left',\n",
       "  'left',\n",
       "  'left',\n",
       "  'left'],\n",
       " 'Answer': ['yes',\n",
       "  'yes',\n",
       "  'no',\n",
       "  'no',\n",
       "  'no',\n",
       "  'no',\n",
       "  'no',\n",
       "  'yes',\n",
       "  'no',\n",
       "  'no',\n",
       "  'no',\n",
       "  'no',\n",
       "  'no',\n",
       "  'no',\n",
       "  'no',\n",
       "  'no',\n",
       "  'no',\n",
       "  'yes',\n",
       "  'no',\n",
       "  'no',\n",
       "  'no',\n",
       "  'no',\n",
       "  'no',\n",
       "  'no',\n",
       "  'no',\n",
       "  'no',\n",
       "  'no',\n",
       "  'no',\n",
       "  'no',\n",
       "  'no'],\n",
       " 'RT': [549,\n",
       "  2019,\n",
       "  1762,\n",
       "  2098,\n",
       "  8567,\n",
       "  1062,\n",
       "  1924,\n",
       "  62,\n",
       "  1938,\n",
       "  1071,\n",
       "  20520,\n",
       "  2910,\n",
       "  875,\n",
       "  1839,\n",
       "  1110,\n",
       "  6619,\n",
       "  48,\n",
       "  8909,\n",
       "  3360,\n",
       "  3363,\n",
       "  2826,\n",
       "  1115,\n",
       "  5069,\n",
       "  3499,\n",
       "  1605,\n",
       "  5434,\n",
       "  1026,\n",
       "  2642,\n",
       "  4392,\n",
       "  21397],\n",
       " 'Time': [datetime.datetime(2018, 1, 16, 9, 42, 32),\n",
       "  datetime.datetime(2018, 1, 16, 9, 42, 41),\n",
       "  datetime.datetime(2018, 1, 16, 9, 42, 52),\n",
       "  datetime.datetime(2018, 1, 16, 9, 42, 59),\n",
       "  datetime.datetime(2018, 1, 16, 9, 43, 13),\n",
       "  datetime.datetime(2018, 1, 16, 9, 43, 23),\n",
       "  datetime.datetime(2018, 1, 16, 9, 43, 31),\n",
       "  datetime.datetime(2018, 1, 16, 9, 43, 37),\n",
       "  datetime.datetime(2018, 1, 16, 9, 43, 50),\n",
       "  datetime.datetime(2018, 1, 16, 9, 43, 57),\n",
       "  datetime.datetime(2018, 1, 16, 9, 44, 28),\n",
       "  datetime.datetime(2018, 1, 16, 9, 44, 36),\n",
       "  datetime.datetime(2018, 1, 16, 9, 44, 43),\n",
       "  datetime.datetime(2018, 1, 16, 9, 44, 49),\n",
       "  datetime.datetime(2018, 1, 16, 9, 45, 6),\n",
       "  datetime.datetime(2018, 1, 16, 9, 45, 22),\n",
       "  datetime.datetime(2018, 1, 16, 9, 45, 28),\n",
       "  datetime.datetime(2018, 1, 16, 9, 45, 46),\n",
       "  datetime.datetime(2018, 1, 16, 9, 45, 59),\n",
       "  datetime.datetime(2018, 1, 16, 9, 46, 12),\n",
       "  datetime.datetime(2018, 1, 16, 9, 46, 26),\n",
       "  datetime.datetime(2018, 1, 16, 9, 46, 35),\n",
       "  datetime.datetime(2018, 1, 16, 9, 46, 46),\n",
       "  datetime.datetime(2018, 1, 16, 9, 46, 55),\n",
       "  datetime.datetime(2018, 1, 16, 9, 47, 5),\n",
       "  datetime.datetime(2018, 1, 16, 9, 47, 33),\n",
       "  datetime.datetime(2018, 1, 16, 9, 47, 50),\n",
       "  datetime.datetime(2018, 1, 16, 9, 47, 59),\n",
       "  datetime.datetime(2018, 1, 16, 9, 48, 10),\n",
       "  datetime.datetime(2018, 1, 16, 9, 48, 45)]}"
      ]
     },
     "execution_count": 149,
     "metadata": {},
     "output_type": "execute_result"
    }
   ],
   "source": [
    "\n",
    "percorso = \"C:\\\\Users\\\\oldboy\\\\Documents\\\\oc_chamber\\\\dataset\\\\data\\\\F-B00-WT\\\\\"\n",
    "\n",
    "percorsofile = percorso + \"20180116_0948-FB00.txt\"\n",
    "dati = reader(percorsofile)\n",
    "\n",
    "dati"
   ]
  },
  {
   "cell_type": "code",
   "execution_count": 3,
   "metadata": {},
   "outputs": [
    {
     "name": "stdout",
     "output_type": "stream",
     "text": [
      "Numero di trial:  {'total': 30, 'right': 2, 'left': 28}\n"
     ]
    }
   ],
   "source": [
    "\n",
    "print(\"Numero di trial: \" , ntrial(dati))"
   ]
  },
  {
   "cell_type": "code",
   "execution_count": 4,
   "metadata": {},
   "outputs": [
    {
     "name": "stdout",
     "output_type": "stream",
     "text": [
      "Left: 28 \tRight:  2\n"
     ]
    }
   ],
   "source": [
    "\n",
    "n_left = 0\n",
    "n_right = 0\n",
    "for r in dati[\"Event\"]:\n",
    "    if r==\"left\":\n",
    "        n_left = n_left+1\n",
    "    elif r==\"right\":\n",
    "        n_right = n_right+1\n",
    "\n",
    "print(\"Left:\", n_left,\"\\tRight: \",n_right)\n"
   ]
  },
  {
   "cell_type": "code",
   "execution_count": 8,
   "metadata": {},
   "outputs": [
    {
     "name": "stdout",
     "output_type": "stream",
     "text": [
      "\tTotal: 30 \tLeft: 28 \tRight:  2\n"
     ]
    }
   ],
   "source": [
    "\n",
    "total = ntrial(dati)\n",
    "print(\"\\tTotal:\", total[\"total\"],\"\\tLeft:\", total[\"left\"],\"\\tRight: \",total[\"right\"])\n"
   ]
  },
  {
   "cell_type": "code",
   "execution_count": 22,
   "metadata": {},
   "outputs": [
    {
     "name": "stdout",
     "output_type": "stream",
     "text": [
      "Media:  3987.0\n"
     ]
    }
   ],
   "source": [
    "# calcolo media usando python\n",
    "\n",
    "somma = 0\n",
    "for rt in dati[\"RT\"]:\n",
    "    somma = somma + rt\n",
    "avg = somma / len(dati[\"Event\"])\n",
    "print(\"Media: \", avg)"
   ]
  },
  {
   "cell_type": "code",
   "execution_count": 21,
   "metadata": {},
   "outputs": [
    {
     "name": "stdout",
     "output_type": "stream",
     "text": [
      "Media:  3987.0\n"
     ]
    }
   ],
   "source": [
    "\n",
    "\n",
    "\n",
    "avg = numpy.mean(dati[\"RT\"])\n",
    "print(\"Media: \", avg)"
   ]
  },
  {
   "cell_type": "code",
   "execution_count": 33,
   "metadata": {},
   "outputs": [
    {
     "data": {
      "text/plain": [
       "13.33"
      ]
     },
     "execution_count": 33,
     "metadata": {},
     "output_type": "execute_result"
    }
   ],
   "source": [
    "#correttezza percentuale totale\n",
    "\n",
    "accuracy = numpy.round(100*(numpy.sum(numpy.where(numpy.array(dati[\"Answer\"])==\"yes\", 1, 0))/len(dati[\"Answer\"])),2)\n"
   ]
  },
  {
   "cell_type": "code",
   "execution_count": 43,
   "metadata": {},
   "outputs": [
    {
     "name": "stdout",
     "output_type": "stream",
     "text": [
      "13.33 %\n",
      "13.33%\n"
     ]
    }
   ],
   "source": [
    "\n",
    "answer = numpy.array( dati[\"Answer\"] ) #trasformazione lista in un numpy array\n",
    "dove_yes = numpy.where(answer==\"yes\", 1, 0) # sostituisce a yes 1 e a no 2\n",
    "somma = numpy.sum(dove_yes) # sommatutti i valori\n",
    "temp = somma/ len(dati[\"Answer\"])\n",
    "percentuale = temp * 100\n",
    "\n",
    "print(numpy.round(percentuale,2) , \"%\")\n",
    "print(str(numpy.round(percentuale,2)) + \"%\")"
   ]
  },
  {
   "cell_type": "code",
   "execution_count": 122,
   "metadata": {},
   "outputs": [
    {
     "name": "stdout",
     "output_type": "stream",
     "text": [
      "RT\n",
      "left:\t4180.07±5163.47\n",
      "right:\t1284.0±5163.47\n"
     ]
    }
   ],
   "source": [
    "\n",
    "\n",
    "    \n",
    "left_rt = select(dati,\"Event\",\"left\",\"RT\")\n",
    "right_rt = select(dati,\"Event\",\"right\",\"RT\")\n",
    "\n",
    "avg_left_rt = numpy.mean(left_rt)\n",
    "avg_right_rt = numpy.mean(right_rt)\n",
    "std_left_rt = numpy.std(left_rt)\n",
    "std_right_rt = numpy.std(right_rt)\n",
    "\n",
    "print(\"RT\\nleft:\\t\"+str(numpy.round(avg_left_rt,2)) + \"\\u00B1\" + str(numpy.round(std_left_rt,2))\n",
    "      +\"\\nright:\\t\"+str(avg_right_rt) + \"\\u00B1\" + str(numpy.round(std_left_rt,2))\n",
    "     )\n"
   ]
  },
  {
   "cell_type": "code",
   "execution_count": 87,
   "metadata": {
    "scrolled": false
   },
   "outputs": [
    {
     "data": {
      "image/png": "[encoded data removed]",
      "text/plain": [
       "<Figure size 432x288 with 1 Axes>"
      ]
     },
     "metadata": {
      "needs_background": "light"
     },
     "output_type": "display_data"
    }
   ],
   "source": [
    "\n",
    "plt.hist(dati[\"RT\"])\n",
    "plt.axvline(avg,ymin=0,ymax=12/16,color=\"r\")\n",
    "plt.show()"
   ]
  },
  {
   "cell_type": "code",
   "execution_count": 121,
   "metadata": {},
   "outputs": [
    {
     "name": "stdout",
     "output_type": "stream",
     "text": [
      "Accuracy\n",
      " Left:\t7.142857142857142%\n",
      " Right:\t100.0%\n",
      "\n"
     ]
    }
   ],
   "source": [
    "# correttezza percentuale per tipo di trial\n",
    "\n",
    "    \n",
    "ev_left = select(dati,\"Event\",\"left\",\"Answer\")\n",
    "ev_right = select(dati,\"Event\",\"right\",\"Answer\")\n",
    "perc_left = accuracy(ev_left)\n",
    "perc_right = accuracy(ev_right)\n",
    "\n",
    "print(\"Accuracy\\n Left:\\t\" + str(perc_left) + \"%\\n Right:\\t\"+ str(perc_right) + \"%\\n\" )"
   ]
  },
  {
   "cell_type": "code",
   "execution_count": 146,
   "metadata": {},
   "outputs": [
    {
     "data": {
      "text/plain": [
       "array([datetime.timedelta(days=-1, seconds=86391)], dtype=object)"
      ]
     },
     "execution_count": 146,
     "metadata": {},
     "output_type": "execute_result"
    }
   ],
   "source": [
    "from datetime import datetime as dt\n",
    "\n",
    "time1 = dt.strptime(dati[\"Time\"][0],\"%H:%M:%S_%d/%m/%Y\")\n",
    "time2 = dt.strptime(dati[\"Time\"][1],\"%H:%M:%S_%d/%m/%Y\")\n",
    "#dati[\"Time\"][0]\n"
   ]
  },
  {
   "cell_type": "code",
   "execution_count": 151,
   "metadata": {},
   "outputs": [
    {
     "name": "stdout",
     "output_type": "stream",
     "text": [
      "0 1\n",
      "1 4\n",
      "2 3\n",
      "3 7\n",
      "4 8\n"
     ]
    }
   ],
   "source": [
    "\n",
    "a = [1,4,3,7,8,5]\n",
    "\n",
    "for i in range(0,len(a)-1):\n",
    "    print(i,a[i])\n"
   ]
  },
  {
   "cell_type": "code",
   "execution_count": 157,
   "metadata": {},
   "outputs": [
    {
     "data": {
      "text/plain": [
       "True"
      ]
     },
     "execution_count": 157,
     "metadata": {},
     "output_type": "execute_result"
    }
   ],
   "source": [
    "a = False\n",
    "\n",
    "a ^= True\n",
    "a"
   ]
  },
  {
   "cell_type": "code",
   "execution_count": null,
   "metadata": {},
   "outputs": [],
   "source": []
  }
 ],
 "metadata": {
  "kernelspec": {
   "display_name": "Python 3",
   "language": "python",
   "name": "python3"
  },
  "language_info": {
   "codemirror_mode": {
    "name": "ipython",
    "version": 3
   },
   "file_extension": ".py",
   "mimetype": "text/x-python",
   "name": "python",
   "nbconvert_exporter": "python",
   "pygments_lexer": "ipython3",
   "version": "3.7.3"
  }
 },
 "nbformat": 4,
 "nbformat_minor": 2
}
